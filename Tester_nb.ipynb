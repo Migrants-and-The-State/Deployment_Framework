{
 "cells": [
  {
   "cell_type": "markdown",
   "metadata": {},
   "source": [
    "## Test out llm inference"
   ]
  },
  {
   "cell_type": "code",
   "execution_count": 9,
   "metadata": {},
   "outputs": [],
   "source": [
    "from metadata_extraction.run_llm_pipeline import Extraction"
   ]
  },
  {
   "cell_type": "code",
   "execution_count": 10,
   "metadata": {},
   "outputs": [
    {
     "name": "stderr",
     "output_type": "stream",
     "text": [
      "/Users/ajay/miniconda3/lib/python3.11/site-packages/spacy_llm/pipeline/llm.py:143: UserWarning: Task supports sharding, but model does not provide context length. Data won't be sharded, prompt might exceed the model's context length. Set context length in your config. If you think spacy-llm should provide the context length for this model automatically, report this to https://github.com/explosion/spacy-llm/issues.\n",
      "  warnings.warn(\n"
     ]
    }
   ],
   "source": [
    "ext_class = Extraction(\"./metadata_extraction/configs/fewshot_v2.cfg\", \"./metadata_extraction/configs/examples_g325a_2.yml\")"
   ]
  },
  {
   "cell_type": "code",
   "execution_count": 11,
   "metadata": {},
   "outputs": [
    {
     "data": {
      "text/plain": [
       "{'REVISION_DATE': ['REV. 4-1-67'],\n",
       " 'OMB_NUMBER': ['43-R436'],\n",
       " 'COUNTRY': ['UNITED STATES', 'CANADA', 'CHINA'],\n",
       " 'NATIONALITY': ['CHINESE'],\n",
       " 'STATE_CITY': ['CALIF.', 'LOS ANGELES', 'U.S.A.', 'CANTON', 'Los angeles'],\n",
       " 'EMPLOYER': ['SELF-EMPLOYED'],\n",
       " 'FORM_NUMBER': ['G-325A']}"
      ]
     },
     "execution_count": 11,
     "metadata": {},
     "output_type": "execute_result"
    }
   ],
   "source": [
    "ext_class.extract_metadata(\"\"\"\n",
    "FORM G-325 A REV. 4-1-67 Screened by 9/18/2023 FORM APPROVED T/C 24QUDGET BUREAU NO. 43-R436 BIOGRAPHIC UNITED STATES DEPARTMENT OF JUSTICE JAN 15 1969 INFORMATION Immigration and Naturalization Service (FAMILY NAME) (FIRST NAME) (MIDDLE NAME) MALE BIRTHDATE(MO-DAY-YR.) NATIONALITY DATE ALIEN REGISTRATION NO. WONG, BEN DONG FEMALE 1/22/1814 CHINESE (IF ANY A12 250 430 ALL OTHER NAMES USED CITY AND COUNTRY OF BIRTH SOCIAL SECURITY NO. (IF ANY) WONG, GUCK ON CANTON , CHINA 553-36-2579 FAMILY NAME FIRST NAME DATE, CITY AND COUNTRY OF BIRTH (IF KNOWN) CITY AND COUNTRY OF RESIDENCE FATHER WONG WEE DON DIED MOTHER (MAIDEN NAME) TOM GIM YEP - CANADA (RESIDENCE) was SPOUSE (IF NONE, so STATE) FAMILY NAME FIRST NAME BIRTHDATE CITY & COUNTRY OF BIRTH DATE OF MARRIAGE PLACE OF MARRIAGE (FOR WIFE, GIVE MAIDEN NAME) FONG SUEY GiN 7/28/15 CANTON, CHINA, CHINA FORMER SPOUSES (IF NONE, so STATE) FAMILY NAME (FOR WIFE. GIVE MAIDEN NAME) FIRST NAME BIRTHDATE DATE & PLACE OF MARRIAGE DATE AND PLACE OF TERMINATION OF MARRIAGE NONE APPLICANT'S RESIDENCE LAST FIVE YEARS. LIST PRESENT ADDRESS FIRST. FROM TO STREET AND NUMBER CITY PROVINCE OR STATE COUNTRY MONTH YEAR MONTH YEAR 1416 310 AVENUE LOS ANGELES CALIF. U.S.A. SEPT. 52 PRESENT TIME LAST FOREIGN RESIDENCE OF MORE THAN ONE YEAR IF NOT SHOWN ABOVE. (INCLUDE ALL INFORMATION REQUESTED ABOVE.) APPLICANT'S EMPLOYMENT LAST FIVE YEARS. (IF NONE, so STATE) LIST PRESENT EMPLOYMENT FIRST. FROM TO FULL NAME AND ADDRESS OF EMPLOYER OCCUPATION MONTH YEAR MONTH YEAR SELF-EMPLOYED 1800 W-8 ST. LAUNDRY JULY 41 PRESENT TIME LAST OCCUPATION ABROAD IF NOT SHOWN ABOVE. (INCLUDE ALL INFORMATION REQUESTED ABOVE.) THIS FORM IS SUBMITTED IN CONNECTION WITH APPLICATION FOR: IF YOUR NATIVE ALPHABET IS IN OTHER THAN ROMAN LETTERS. WRITE YOUR NAME IN NATURALIZATION ADJUSTMENT OF STATUS YOUR NATIVE ALPHABET IN THIS SPACE: OTHER (SPECIFY): PENALTIES: SEVERE PENALTIES ARE PROVIDED BY LAW FOR KNOWINGLY AND WILLFULLY FALSIFYING 11/6/68 OR CONCEALING A MATERIAL FACT. DATE Wing (SIGNATURE Ben OF APPLICANT OR Dong PETITIONER) COMPLETE THIS BOX (FAMILY NAME) (GIVEN NAME) (MIDDLE NAME) (ALIEN REGISTRATION NUMBER) WONG Ben Dong A12 250 430 (OTHER AGENCY USE) (INS USE) (daughter REFER no DATA in KE HUANG law (nee CH'EN) GEN-hsia LOS WHICH WAS SENT THE Los angeles (All-94-27a) etc. T/C - 249 11/10/69 (DATE) OFFICE OF INS ON local basis investigative fi : To check FB1 this reply is result of check of FILL records, request arrest to Identification Divident Dre submitted Water are necessary for positive Finger dis, 2) Rec. Br. FORM G-325A\n",
    "\"\"\")"
   ]
  },
  {
   "cell_type": "code",
   "execution_count": 12,
   "metadata": {},
   "outputs": [],
   "source": [
    "d = {}\n",
    "d['a'] = set()"
   ]
  },
  {
   "cell_type": "markdown",
   "metadata": {},
   "source": [
    "## Test out Classification Model"
   ]
  },
  {
   "cell_type": "code",
   "execution_count": 1,
   "metadata": {},
   "outputs": [
    {
     "name": "stderr",
     "output_type": "stream",
     "text": [
      "/Users/ajay/miniconda3/lib/python3.11/site-packages/tqdm/auto.py:21: TqdmWarning: IProgress not found. Please update jupyter and ipywidgets. See https://ipywidgets.readthedocs.io/en/stable/user_install.html\n",
      "  from .autonotebook import tqdm as notebook_tqdm\n"
     ]
    }
   ],
   "source": [
    "from classification_models.image.load_classifier import Pretrained_Image_Classifier\n"
   ]
  },
  {
   "cell_type": "code",
   "execution_count": 2,
   "metadata": {},
   "outputs": [
    {
     "name": "stdout",
     "output_type": "stream",
     "text": [
      "Metal Performance Shaders (MPS) is available on mac\n",
      "Loading a pretrained model + linear head\n"
     ]
    },
    {
     "name": "stderr",
     "output_type": "stream",
     "text": [
      "Using cache found in /Users/ajay/.cache/torch/hub/facebookresearch_dinov2_main\n",
      "/Users/ajay/.cache/torch/hub/facebookresearch_dinov2_main/dinov2/layers/swiglu_ffn.py:51: UserWarning: xFormers is not available (SwiGLU)\n",
      "  warnings.warn(\"xFormers is not available (SwiGLU)\")\n",
      "/Users/ajay/.cache/torch/hub/facebookresearch_dinov2_main/dinov2/layers/attention.py:33: UserWarning: xFormers is not available (Attention)\n",
      "  warnings.warn(\"xFormers is not available (Attention)\")\n",
      "/Users/ajay/.cache/torch/hub/facebookresearch_dinov2_main/dinov2/layers/block.py:40: UserWarning: xFormers is not available (Block)\n",
      "  warnings.warn(\"xFormers is not available (Block)\")\n"
     ]
    }
   ],
   "source": [
    "model_class = Pretrained_Image_Classifier(\"linear_layer.pth\")\n"
   ]
  },
  {
   "cell_type": "code",
   "execution_count": 3,
   "metadata": {},
   "outputs": [],
   "source": [
    "output, features = model_class.inference(\"https://d1b7k5w7yjwpfg.cloudfront.net/iiif/2/migrants-state_A10001331_0001/full/full/0/default.jpg\")"
   ]
  },
  {
   "cell_type": "code",
   "execution_count": 4,
   "metadata": {},
   "outputs": [
    {
     "data": {
      "text/plain": [
       "(torch.Size([1, 4]), torch.Size([1, 1536]))"
      ]
     },
     "execution_count": 4,
     "metadata": {},
     "output_type": "execute_result"
    }
   ],
   "source": [
    "output.shape, features.shape"
   ]
  },
  {
   "cell_type": "code",
   "execution_count": 8,
   "metadata": {},
   "outputs": [
    {
     "data": {
      "text/plain": [
       "tensor(0)"
      ]
     },
     "execution_count": 8,
     "metadata": {},
     "output_type": "execute_result"
    }
   ],
   "source": [
    "import torch\n",
    "torch.argmax(output)"
   ]
  },
  {
   "cell_type": "markdown",
   "metadata": {},
   "source": [
    "## Test out certificate of Naturalization "
   ]
  },
  {
   "cell_type": "code",
   "execution_count": 11,
   "metadata": {},
   "outputs": [
    {
     "name": "stderr",
     "output_type": "stream",
     "text": [
      "/Users/ajay/miniconda3/lib/python3.11/site-packages/tqdm/auto.py:21: TqdmWarning: IProgress not found. Please update jupyter and ipywidgets. See https://ipywidgets.readthedocs.io/en/stable/user_install.html\n",
      "  from .autonotebook import tqdm as notebook_tqdm\n"
     ]
    }
   ],
   "source": [
    "from misc_techniques import detect_cert_nat"
   ]
  },
  {
   "cell_type": "code",
   "execution_count": 12,
   "metadata": {},
   "outputs": [],
   "source": [
    "cert_nat_image, cert_nat_text = detect_cert_nat.load_template_embeddings()"
   ]
  },
  {
   "cell_type": "markdown",
   "metadata": {},
   "source": [
    "### If Embeddings are present"
   ]
  },
  {
   "cell_type": "code",
   "execution_count": 13,
   "metadata": {},
   "outputs": [],
   "source": [
    "image_embeddings = detect_cert_nat.init_image_embeddings(\"/Users/ajay/Documents/Oncampus/TrainingFramework/Newer/Model_Trainer/data/parallel_results.pkl\")\n",
    "text_embeddings = detect_cert_nat.init_text_embeddings(\"/Users/ajay/Documents/Oncampus/TrainingFramework/text_embeddings_textract.pkl\")"
   ]
  },
  {
   "cell_type": "code",
   "execution_count": 15,
   "metadata": {},
   "outputs": [
    {
     "data": {
      "text/plain": [
       "1"
      ]
     },
     "execution_count": 15,
     "metadata": {},
     "output_type": "execute_result"
    }
   ],
   "source": [
    "i = 3 \n",
    "image_cosine_sim = detect_cert_nat.compute_cosine_similarity_scores_from_pkls([i], cert_nat_image, image_embeddings, mode='pkl')\n",
    "text_cosine_sim = detect_cert_nat.compute_cosine_similarity_scores_from_pkls([i], cert_nat_text, text_embeddings, mode='pkl')\n",
    "\n",
    "detect_cert_nat.verify_cert_nat(text_cosine_sim, image_cosine_sim)"
   ]
  },
  {
   "cell_type": "markdown",
   "metadata": {},
   "source": [
    "### If Embeddings aren't Present"
   ]
  },
  {
   "cell_type": "code",
   "execution_count": 14,
   "metadata": {},
   "outputs": [],
   "source": [
    "piece_of_text = \"\"\"'Copied at the National Archives at Kansas City DUPLICATE TO BE FORWARDED TO No. 8050754 IMMIGRATION AND INATURALIZATION SERVICE Pelition no 17603 Personal description, of holder as of Date of birth April 23. 1878 sex M ; complexion fair colorsheries grey color of hair grey height 5 fees 7 inches; weight 163 pounds; visible distinctive marks wart corner left eye Maritalstatus married ed to less formerly Russia I certify that the description, above given is have and that a likeness of me. Sun sign Wladmins Fedowosth Love Complete and truce signature of holder) State of New York } SS: County of Albany Beitknown, that at a termofthe Supreme Court of New York, Albany County held pursuantly, lawal Albany, New York on June 15, 1961 the Court havingfoundshal Wladimir Fedorovich Livin then residing at 22 Forest Dr Albany New York inlends loveside permanentlyin the United States when sorrequired by the naturalization Laws of he United. States), had in callotherrespects, complied with the applicable provisions of such nahuralizeation laws, and was entilled to be Seal admilled docilizenship thereupon ordered that such person be and(s)hewas admilled as a cilizer of the United States of America. Indestimony whereofthesealofthe courtis hereunto, officed this 15th day of June in the year of own Lord nineteen hundred and Sixty-one and of our. Independence the one hundred and Eighty-fifth Breadd L. Linch punishable Insuriolation as such) to copypain., of the u. S. Code photograph. land Clerk of the Supreme Court. or otherwise illegally use this certificate. By Francle missuff Deputy Clerk.'\n",
    "\"\"\"\n",
    "url = 'https://d1b7k5w7yjwpfg.cloudfront.net/iiif/2/migrants-state_A10001331_0003/full/full/0/default.jpg'\n",
    "\n"
   ]
  },
  {
   "cell_type": "code",
   "execution_count": 16,
   "metadata": {},
   "outputs": [
    {
     "name": "stdout",
     "output_type": "stream",
     "text": [
      "Metal Performance Shaders (MPS) is available on mac\n",
      "Loading a pretrained model + linear head\n"
     ]
    },
    {
     "name": "stderr",
     "output_type": "stream",
     "text": [
      "Using cache found in /Users/ajay/.cache/torch/hub/facebookresearch_dinov2_main\n",
      "/Users/ajay/.cache/torch/hub/facebookresearch_dinov2_main/dinov2/layers/swiglu_ffn.py:51: UserWarning: xFormers is not available (SwiGLU)\n",
      "  warnings.warn(\"xFormers is not available (SwiGLU)\")\n",
      "/Users/ajay/.cache/torch/hub/facebookresearch_dinov2_main/dinov2/layers/attention.py:33: UserWarning: xFormers is not available (Attention)\n",
      "  warnings.warn(\"xFormers is not available (Attention)\")\n",
      "/Users/ajay/.cache/torch/hub/facebookresearch_dinov2_main/dinov2/layers/block.py:40: UserWarning: xFormers is not available (Block)\n",
      "  warnings.warn(\"xFormers is not available (Block)\")\n"
     ]
    }
   ],
   "source": [
    "from classification_models.image.load_classifier import Pretrained_Image_Classifier\n",
    "image_model = Pretrained_Image_Classifier(\"linear_layer.pth\")\n",
    "text_model = detect_cert_nat.init_text_model()\n"
   ]
  },
  {
   "cell_type": "code",
   "execution_count": 19,
   "metadata": {},
   "outputs": [
    {
     "data": {
      "text/plain": [
       "1"
      ]
     },
     "execution_count": 19,
     "metadata": {},
     "output_type": "execute_result"
    }
   ],
   "source": [
    "image_cosine_sim = detect_cert_nat.compute_cosine_similarity_scores_from_pkls([url], cert_nat_image, None, image_model, mode='image_model')\n",
    "text_cosine_sim = detect_cert_nat.compute_cosine_similarity_scores_from_pkls([piece_of_text], cert_nat_text, None, text_model, mode='text_model')\n",
    "\n",
    "detect_cert_nat.verify_cert_nat(text_cosine_sim, image_cosine_sim)"
   ]
  },
  {
   "cell_type": "code",
   "execution_count": null,
   "metadata": {},
   "outputs": [],
   "source": []
  }
 ],
 "metadata": {
  "kernelspec": {
   "display_name": "base",
   "language": "python",
   "name": "python3"
  },
  "language_info": {
   "codemirror_mode": {
    "name": "ipython",
    "version": 3
   },
   "file_extension": ".py",
   "mimetype": "text/x-python",
   "name": "python",
   "nbconvert_exporter": "python",
   "pygments_lexer": "ipython3",
   "version": "3.11.5"
  },
  "orig_nbformat": 4
 },
 "nbformat": 4,
 "nbformat_minor": 2
}
